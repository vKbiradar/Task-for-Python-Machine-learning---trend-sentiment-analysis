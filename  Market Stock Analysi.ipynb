{
 "cells": [
  {
   "cell_type": "code",
   "execution_count": 33,
   "id": "af66bf4a",
   "metadata": {
    "scrolled": true
   },
   "outputs": [
    {
     "name": "stdout",
     "output_type": "stream",
     "text": [
      "Collecting nsetools\n",
      "  Using cached nsetools-1.0.11-py3-none-any.whl (9.6 kB)\n",
      "Requirement already satisfied: six in c:\\users\\army\\anaconda3\\envs\\project\\lib\\site-packages (from nsetools) (1.15.0)\n",
      "Collecting dateutils\n",
      "  Using cached dateutils-0.6.12-py2.py3-none-any.whl (5.7 kB)\n",
      "Requirement already satisfied: python-dateutil in c:\\users\\army\\anaconda3\\envs\\project\\lib\\site-packages (from dateutils->nsetools) (2.8.2)\n",
      "Requirement already satisfied: pytz in c:\\users\\army\\anaconda3\\envs\\project\\lib\\site-packages (from dateutils->nsetools) (2021.3)\n",
      "Installing collected packages: dateutils, nsetools\n",
      "Successfully installed dateutils-0.6.12 nsetools-1.0.11\n"
     ]
    }
   ],
   "source": [
    "!pip3 install nsetools"
   ]
  },
  {
   "cell_type": "code",
   "execution_count": 2,
   "id": "b80512e2",
   "metadata": {},
   "outputs": [],
   "source": [
    "from nsetools import Nse\n",
    "import time"
   ]
  },
  {
   "cell_type": "code",
   "execution_count": 7,
   "id": "a341749a",
   "metadata": {},
   "outputs": [
    {
     "name": "stdout",
     "output_type": "stream",
     "text": [
      "Collecting pandas\n",
      "  Downloading pandas-1.4.3-cp38-cp38-win_amd64.whl (10.6 MB)\n",
      "Requirement already satisfied: pytz>=2020.1 in c:\\users\\army\\anaconda3\\envs\\project\\lib\\site-packages (from pandas) (2021.3)\n",
      "Requirement already satisfied: python-dateutil>=2.8.1 in c:\\users\\army\\anaconda3\\envs\\project\\lib\\site-packages (from pandas) (2.8.2)\n",
      "Requirement already satisfied: numpy>=1.18.5 in c:\\users\\army\\anaconda3\\envs\\project\\lib\\site-packages (from pandas) (1.22.3)\n",
      "Requirement already satisfied: six>=1.5 in c:\\users\\army\\anaconda3\\envs\\project\\lib\\site-packages (from python-dateutil>=2.8.1->pandas) (1.15.0)\n",
      "Installing collected packages: pandas\n",
      "Successfully installed pandas-1.4.3\n"
     ]
    }
   ],
   "source": [
    "!pip install pandas"
   ]
  },
  {
   "cell_type": "code",
   "execution_count": 14,
   "id": "2c2c88e4",
   "metadata": {
    "scrolled": true
   },
   "outputs": [
    {
     "name": "stdout",
     "output_type": "stream",
     "text": [
      "Requirement already satisfied: tweepy in c:\\users\\army\\anaconda3\\envs\\project\\lib\\site-packages (4.10.0)\n",
      "Requirement already satisfied: oauthlib<4,>=3.2.0 in c:\\users\\army\\anaconda3\\envs\\project\\lib\\site-packages (from tweepy) (3.2.0)\n",
      "Requirement already satisfied: requests-oauthlib<2,>=1.2.0 in c:\\users\\army\\anaconda3\\envs\\project\\lib\\site-packages (from tweepy) (1.3.0)\n",
      "Requirement already satisfied: requests<3,>=2.27.0 in c:\\users\\army\\anaconda3\\envs\\project\\lib\\site-packages (from tweepy) (2.27.1)\n",
      "Requirement already satisfied: charset-normalizer~=2.0.0 in c:\\users\\army\\anaconda3\\envs\\project\\lib\\site-packages (from requests<3,>=2.27.0->tweepy) (2.0.4)\n",
      "Requirement already satisfied: idna<4,>=2.5 in c:\\users\\army\\anaconda3\\envs\\project\\lib\\site-packages (from requests<3,>=2.27.0->tweepy) (3.3)\n",
      "Requirement already satisfied: certifi>=2017.4.17 in c:\\users\\army\\anaconda3\\envs\\project\\lib\\site-packages (from requests<3,>=2.27.0->tweepy) (2022.5.18.1)\n",
      "Requirement already satisfied: urllib3<1.27,>=1.21.1 in c:\\users\\army\\anaconda3\\envs\\project\\lib\\site-packages (from requests<3,>=2.27.0->tweepy) (1.26.9)\n"
     ]
    }
   ],
   "source": [
    "!pip install tweepy\n"
   ]
  },
  {
   "cell_type": "code",
   "execution_count": 25,
   "id": "b3208000",
   "metadata": {
    "scrolled": true
   },
   "outputs": [
    {
     "name": "stdout",
     "output_type": "stream",
     "text": [
      "Collecting textblobNote: you may need to restart the kernel to use updated packages.\n",
      "  Using cached textblob-0.17.1-py2.py3-none-any.whl (636 kB)\n",
      "Collecting nltk>=3.1\n",
      "  Downloading nltk-3.7-py3-none-any.whl (1.5 MB)\n",
      "Collecting tqdm\n",
      "  Downloading tqdm-4.64.0-py2.py3-none-any.whl (78 kB)\n",
      "Requirement already satisfied: click in c:\\users\\army\\anaconda3\\envs\\project\\lib\\site-packages (from nltk>=3.1->textblob) (8.0.4)\n",
      "Requirement already satisfied: regex>=2021.8.3 in c:\\users\\army\\anaconda3\\envs\\project\\lib\\site-packages (from nltk>=3.1->textblob) (2022.3.15)\n",
      "Collecting joblib\n",
      "  Downloading joblib-1.1.0-py2.py3-none-any.whl (306 kB)\n",
      "Requirement already satisfied: colorama in c:\\users\\army\\anaconda3\\envs\\project\\lib\\site-packages (from click->nltk>=3.1->textblob) (0.4.4)\n",
      "Installing collected packages: tqdm, joblib, nltk, textblob\n",
      "Successfully installed joblib-1.1.0 nltk-3.7 textblob-0.17.1 tqdm-4.64.0\n",
      "\n"
     ]
    }
   ],
   "source": [
    "pip install textblob"
   ]
  },
  {
   "cell_type": "markdown",
   "id": "228a75aa",
   "metadata": {},
   "source": [
    "The task is fetch current 10 stocks which have gained highest and lost highest \n",
    "Eg. you can see here\n"
   ]
  },
  {
   "cell_type": "code",
   "execution_count": 34,
   "id": "9dc8a196",
   "metadata": {},
   "outputs": [
    {
     "name": "stdout",
     "output_type": "stream",
     "text": [
      "******Top Gainers *******\n",
      "Equity: JSWSTEEL Last closing price: 574.45 Current Closing Price 590.05 Gain/loss: 15.6\n",
      "Equity: DIVISLAB Last closing price: 3687.45 Current Closing Price 3772.8 Gain/loss: 85.35\n",
      "Equity: HINDUNILVR Last closing price: 2449.55 Current Closing Price 2498.7 Gain/loss: 49.15\n",
      "Equity: CIPLA Last closing price: 935.75 Current Closing Price 953.55 Gain/loss: 17.8\n",
      "Equity: ASIANPAINT Last closing price: 2893.2 Current Closing Price 2947.0 Gain/loss: 53.8\n",
      "Equity: GRASIM Last closing price: 1380.05 Current Closing Price 1399.55 Gain/loss: 19.5\n",
      "Equity: NTPC Last closing price: 147.1 Current Closing Price 148.7 Gain/loss: 1.6\n",
      "Equity: KOTAKBANK Last closing price: 1718.95 Current Closing Price 1737.5 Gain/loss: 18.55\n",
      "Equity: SUNPHARMA Last closing price: 851.6 Current Closing Price 859.85 Gain/loss: 8.25\n",
      "Equity: HINDALCO Last closing price: 346.9 Current Closing Price 350.1 Gain/loss: 3.2\n",
      "\n",
      "\n",
      "\n",
      "******Top Losers *******\n",
      "Equity: INDUSINDBK Last closing price: 847.05 Current Closing Price 806.6 Gain/loss: -40.45\n",
      "Equity: BHARTIARTL Last closing price: 663.0 Current Closing Price 644.9 Gain/loss: -18.1\n",
      "Equity: HDFC Last closing price: 2226.9 Current Closing Price 2169.65 Gain/loss: -57.25\n",
      "Equity: HDFCBANK Last closing price: 1391.8 Current Closing Price 1357.95 Gain/loss: -33.85\n",
      "Equity: TCS Last closing price: 3084.7 Current Closing Price 3039.05 Gain/loss: -45.65\n",
      "Equity: RELIANCE Last closing price: 2420.45 Current Closing Price 2387.95 Gain/loss: -32.5\n",
      "Equity: HCLTECH Last closing price: 927.8 Current Closing Price 915.8 Gain/loss: -12.0\n",
      "Equity: APOLLOHOSP Last closing price: 3929.7 Current Closing Price 3879.5 Gain/loss: -50.2\n",
      "Equity: HEROMOTOCO Last closing price: 2875.5 Current Closing Price 2840.2 Gain/loss: -35.3\n",
      "Equity: TITAN Last closing price: 2130.0 Current Closing Price 2113.0 Gain/loss: -17.0\n",
      "\n",
      "\n",
      "\n"
     ]
    }
   ],
   "source": [
    "from nsetools import Nse\n",
    "import time\n",
    "nse =Nse()\n",
    "\n",
    "stock_code =nse.get_stock_codes()\n",
    "top =nse.get_top_gainers()\n",
    "losers =nse.get_top_losers()\n",
    "\n",
    "for y in stock_code:\n",
    "    with open(\".\\source.txt\",'a') as file:\n",
    "            file.write(y)\n",
    "            file.write(\"\\n\")\n",
    "    next   \n",
    "        \n",
    "        \n",
    "time.sleep(5)\n",
    "\n",
    "\n",
    "with open(\".\\source.txt\",\"r\") as file:\n",
    "        \n",
    "        t2=\" \".join([x.strip()for x in file])\n",
    "        t3=t2.split()\n",
    "        \n",
    "        print(\"******Top Gainers *******\")\n",
    "        for i in top:\n",
    "            if i['symbol']in t3:\n",
    "                    \n",
    "                    print(\"Equity:\", i[\"symbol\"],\"Last closing price:\",i['previousPrice'],\\\n",
    "                          \"Current Closing Price\",i['ltp'],\"Gain/loss:\",round(i['ltp']-i['previousPrice'],2))\n",
    "        print(\"\\n\\n\")\n",
    "                \n",
    "with open(\".\\source.txt\",\"r\") as file:\n",
    "        \n",
    "        t2=\" \".join([x.strip()for x in file])\n",
    "        t3=t2.split()\n",
    "        print(\"******Top Losers *******\")\n",
    "        for i in losers:\n",
    "            if i['symbol']in t3:\n",
    "                      \n",
    "                    print(\"Equity:\", i[\"symbol\"],\"Last closing price:\",i['previousPrice'],\\\n",
    "                          \"Current Closing Price\",i['ltp'],\"Gain/loss:\",round(i['ltp']-i['previousPrice'],2))    \n",
    "        print(\"\\n\\n\")\n",
    "open(\"source.txt\",'w').close;   "
   ]
  },
  {
   "cell_type": "code",
   "execution_count": null,
   "id": "0cf6482b",
   "metadata": {},
   "outputs": [],
   "source": []
  },
  {
   "cell_type": "code",
   "execution_count": null,
   "id": "ad96abef",
   "metadata": {},
   "outputs": [],
   "source": []
  }
 ],
 "metadata": {
  "kernelspec": {
   "display_name": "Python 3 (ipykernel)",
   "language": "python",
   "name": "python3"
  },
  "language_info": {
   "codemirror_mode": {
    "name": "ipython",
    "version": 3
   },
   "file_extension": ".py",
   "mimetype": "text/x-python",
   "name": "python",
   "nbconvert_exporter": "python",
   "pygments_lexer": "ipython3",
   "version": "3.8.13"
  }
 },
 "nbformat": 4,
 "nbformat_minor": 5
}
